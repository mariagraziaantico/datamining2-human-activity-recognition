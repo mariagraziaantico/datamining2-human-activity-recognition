{
  "cells": [
    {
      "cell_type": "code",
      "execution_count": 3,
      "id": "2e475fc3",
      "metadata": {
        "id": "2e475fc3"
      },
      "outputs": [],
      "source": [
        "%matplotlib inline\n",
        "\n",
        "import numpy as np\n",
        "import pandas as pd\n",
        "import matplotlib.pyplot as plt\n",
        "\n",
        "from collections import defaultdict\n",
        "from sklearn.model_selection import train_test_split, cross_val_score\n",
        "\n",
        "from sklearn.metrics import accuracy_score, f1_score, classification_report\n",
        "from sklearn.metrics import roc_curve, auc, roc_auc_score\n",
        "from sklearn.preprocessing import StandardScaler\n",
        "from sklearn.model_selection import GridSearchCV\n",
        "from sklearn.model_selection import RepeatedStratifiedKFold\n",
        "from sklearn.model_selection import RandomizedSearchCV\n",
        "from sklearn.ensemble import GradientBoostingClassifier\n",
        "from xgboost import XGBClassifier\n",
        "from sklearn.ensemble import HistGradientBoostingClassifier\n",
        "from lightgbm import LGBMClassifier\n",
        "import lightgbm as lgb\n",
        "import pydotplus\n",
        "from sklearn import tree"
      ]
    },
    {
      "cell_type": "code",
      "execution_count": 4,
      "id": "4a9c8adc",
      "metadata": {
        "id": "4a9c8adc"
      },
      "outputs": [],
      "source": [
        "df=pd.read_csv('df_RFE_6Class_LOF.csv')\n",
        "df2=df.drop(columns=['Unnamed: 0','label'])"
      ]
    },
    {
      "cell_type": "code",
      "execution_count": 5,
      "id": "82fcbde2",
      "metadata": {
        "id": "82fcbde2"
      },
      "outputs": [],
      "source": [
        "X = df2.values\n",
        "y = np.array(df['label'])"
      ]
    },
    {
      "cell_type": "code",
      "execution_count": 6,
      "id": "6069e766",
      "metadata": {
        "id": "6069e766"
      },
      "outputs": [],
      "source": [
        "test = pd.read_csv('df_RFE_test.csv')\n",
        "test2=test.drop(columns=['Unnamed: 0','label'])"
      ]
    },
    {
      "cell_type": "code",
      "execution_count": 2,
      "id": "5e681d72",
      "metadata": {
        "colab": {
          "base_uri": "https://localhost:8080/"
        },
        "id": "5e681d72",
        "outputId": "76f4493f-ec03-4c5e-d200-3534141e3f8d"
      },
      "outputs": [
        {
          "output_type": "stream",
          "name": "stdout",
          "text": [
            "Requirement already satisfied: xgboost in /usr/local/lib/python3.10/dist-packages (1.7.6)\n",
            "Requirement already satisfied: numpy in /usr/local/lib/python3.10/dist-packages (from xgboost) (1.23.5)\n",
            "Requirement already satisfied: scipy in /usr/local/lib/python3.10/dist-packages (from xgboost) (1.11.2)\n"
          ]
        }
      ],
      "source": [
        "!pip install xgboost"
      ]
    },
    {
      "cell_type": "code",
      "execution_count": 7,
      "id": "121581b3",
      "metadata": {
        "id": "121581b3"
      },
      "outputs": [],
      "source": [
        "Xtest= test2.values\n",
        "ytest = np.array(test['label'])"
      ]
    },
    {
      "cell_type": "code",
      "execution_count": 8,
      "id": "dfa3b06b",
      "metadata": {
        "id": "dfa3b06b"
      },
      "outputs": [],
      "source": [
        "scaler = StandardScaler()\n",
        "scaler.fit(X)\n",
        "X_train = scaler.transform(X)\n",
        "X_test = scaler.transform(Xtest)"
      ]
    },
    {
      "cell_type": "markdown",
      "source": [
        "# Gradient Boosting"
      ],
      "metadata": {
        "id": "DWgH9Vzhk9y3"
      },
      "id": "DWgH9Vzhk9y3"
    },
    {
      "cell_type": "code",
      "execution_count": null,
      "id": "0e75a3d0",
      "metadata": {
        "id": "0e75a3d0",
        "outputId": "6ac0d6e9-4150-42cb-961d-c155bdb5245d"
      },
      "outputs": [
        {
          "name": "stdout",
          "output_type": "stream",
          "text": [
            "Accuracy 0.9073634204275535\n",
            "F1-score [0.92337536 0.86560847 0.9225     0.85079365 0.87534122 1.        ]\n",
            "              precision    recall  f1-score   support\n",
            "\n",
            "           1       0.89      0.96      0.92       496\n",
            "           2       0.86      0.87      0.87       471\n",
            "           3       0.97      0.88      0.92       420\n",
            "           4       0.89      0.82      0.85       491\n",
            "           5       0.85      0.90      0.88       532\n",
            "           6       1.00      1.00      1.00       537\n",
            "\n",
            "    accuracy                           0.91      2947\n",
            "   macro avg       0.91      0.90      0.91      2947\n",
            "weighted avg       0.91      0.91      0.91      2947\n",
            "\n"
          ]
        }
      ],
      "source": [
        "clf = GradientBoostingClassifier(n_estimators=60, learning_rate=0.1, max_depth=3, random_state=0)\n",
        "clf.fit(X, y)\n",
        "\n",
        "y_pred = clf.predict(Xtest)\n",
        "\n",
        "print('Accuracy %s' % accuracy_score(ytest, y_pred))\n",
        "print('F1-score %s' % f1_score(ytest, y_pred, average=None))\n",
        "print(classification_report(ytest, y_pred))"
      ]
    },
    {
      "cell_type": "code",
      "execution_count": null,
      "id": "fcec901c",
      "metadata": {
        "id": "fcec901c",
        "outputId": "03a4db09-d642-46b3-cdf9-ac7367d7595b"
      },
      "outputs": [
        {
          "name": "stdout",
          "output_type": "stream",
          "text": [
            "Accuracy of hgb: 92.81 %\n",
            "SD of hgb: 3.37 %\n"
          ]
        }
      ],
      "source": [
        "#CROSS\n",
        "cvgb = cross_val_score(clf, X , y, cv = 10)\n",
        "print(\"Accuracy of hgb: {:.2f} %\".format(cvgb.mean()*100))\n",
        "print(\"SD of hgb: {:.2f} %\".format(cvgb.std()*100))"
      ]
    },
    {
      "cell_type": "markdown",
      "source": [
        "#Hist Gradient Boosting"
      ],
      "metadata": {
        "id": "N41sKcuelAvb"
      },
      "id": "N41sKcuelAvb"
    },
    {
      "cell_type": "code",
      "execution_count": null,
      "id": "b8c42f03",
      "metadata": {
        "id": "b8c42f03",
        "outputId": "8a9aec12-98ff-4b1b-8d07-99690a616091"
      },
      "outputs": [
        {
          "name": "stdout",
          "output_type": "stream",
          "text": [
            "Accuracy 0.9148286392941974\n",
            "F1-score [0.93346574 0.87941788 0.91831683 0.86638831 0.88479263 1.        ]\n",
            "              precision    recall  f1-score   support\n",
            "\n",
            "           1       0.92      0.95      0.93       496\n",
            "           2       0.86      0.90      0.88       471\n",
            "           3       0.96      0.88      0.92       420\n",
            "           4       0.89      0.85      0.87       491\n",
            "           5       0.87      0.90      0.88       532\n",
            "           6       1.00      1.00      1.00       537\n",
            "\n",
            "    accuracy                           0.91      2947\n",
            "   macro avg       0.92      0.91      0.91      2947\n",
            "weighted avg       0.92      0.91      0.91      2947\n",
            "\n"
          ]
        }
      ],
      "source": [
        "clf2 = HistGradientBoostingClassifier(learning_rate=0.1, max_depth=2, random_state=0, min_samples_leaf=50)\n",
        "clf2.fit(X, y)\n",
        "\n",
        "y_pred2 = clf2.predict(Xtest)\n",
        "\n",
        "print('Accuracy %s' % accuracy_score(ytest, y_pred2))\n",
        "print('F1-score %s' % f1_score(ytest, y_pred2, average=None))\n",
        "print(classification_report(ytest, y_pred2))"
      ]
    },
    {
      "cell_type": "code",
      "execution_count": null,
      "id": "89c227d8",
      "metadata": {
        "id": "89c227d8",
        "outputId": "f74bd786-567b-4b4b-ea65-b56f41a737b2"
      },
      "outputs": [
        {
          "name": "stdout",
          "output_type": "stream",
          "text": [
            "Accuracy of hgb: 94.02 %\n",
            "SD of hgb: 3.86 %\n"
          ]
        }
      ],
      "source": [
        "#CROSS\n",
        "cvhgb = cross_val_score(clf2, X , y, cv = 10)\n",
        "print(\"Accuracy of hgb: {:.2f} %\".format(cvhgb.mean()*100))\n",
        "print(\"SD of hgb: {:.2f} %\".format(cvhgb.std()*100))"
      ]
    },
    {
      "cell_type": "markdown",
      "id": "a7b524a2",
      "metadata": {
        "id": "a7b524a2"
      },
      "source": [
        "# XGBOOST"
      ]
    },
    {
      "cell_type": "code",
      "execution_count": null,
      "metadata": {
        "id": "91e6ed18",
        "outputId": "876d784f-102a-48e7-e2cc-375e9f50bc9a"
      },
      "outputs": [
        {
          "name": "stderr",
          "output_type": "stream",
          "text": [
            "C:\\Users\\maria\\anaconda3\\lib\\site-packages\\xgboost\\sklearn.py:1224: UserWarning: The use of label encoder in XGBClassifier is deprecated and will be removed in a future release. To remove this warning, do the following: 1) Pass option use_label_encoder=False when constructing XGBClassifier object; and 2) Encode your labels (y) as integers starting with 0, i.e. 0, 1, 2, ..., [num_class - 1].\n",
            "  warnings.warn(label_encoder_deprecation_msg, UserWarning)\n"
          ]
        },
        {
          "name": "stdout",
          "output_type": "stream",
          "text": [
            "[20:41:00] WARNING: C:/Users/Administrator/workspace/xgboost-win64_release_1.5.1/src/learner.cc:1115: Starting in XGBoost 1.3.0, the default evaluation metric used with the objective 'multi:softprob' was changed from 'merror' to 'mlogloss'. Explicitly set eval_metric if you'd like to restore the old behavior.\n",
            "Accuracy 0.9192399049881235\n",
            "F1-score [0.93787575 0.8992731  0.9253366  0.86266094 0.88468468 1.        ]\n",
            "              precision    recall  f1-score   support\n",
            "\n",
            "           1       0.93      0.94      0.94       496\n",
            "           2       0.88      0.92      0.90       471\n",
            "           3       0.95      0.90      0.93       420\n",
            "           4       0.91      0.82      0.86       491\n",
            "           5       0.85      0.92      0.88       532\n",
            "           6       1.00      1.00      1.00       537\n",
            "\n",
            "    accuracy                           0.92      2947\n",
            "   macro avg       0.92      0.92      0.92      2947\n",
            "weighted avg       0.92      0.92      0.92      2947\n",
            "\n"
          ]
        }
      ],
      "source": [
        "clf3 = XGBClassifier(learning_rate=0.1,\n",
        "                    n_estimators=100,\n",
        "                    max_depth=5,\n",
        "                    min_child_weight=2,\n",
        "                    gamma=0,\n",
        "                     reg_lambda=1,\n",
        "                    objective='multi:softmax',\n",
        "                     tree_method='exact',\n",
        "                    seed=27)\n",
        "\n",
        "clf3.fit(X, y)\n",
        "\n",
        "y_pred = clf3.predict(Xtest)\n",
        "\n",
        "print('Accuracy %s' % accuracy_score(ytest, y_pred))\n",
        "print('F1-score %s' % f1_score(ytest, y_pred, average=None))\n",
        "print(classification_report(ytest, y_pred))"
      ],
      "id": "91e6ed18"
    },
    {
      "cell_type": "code",
      "execution_count": null,
      "id": "61051423",
      "metadata": {
        "id": "61051423",
        "outputId": "9900ac2e-7e7b-4428-8e13-94811ac7bcd1"
      },
      "outputs": [
        {
          "name": "stderr",
          "output_type": "stream",
          "text": [
            "C:\\Users\\maria\\anaconda3\\lib\\site-packages\\xgboost\\sklearn.py:1224: UserWarning: The use of label encoder in XGBClassifier is deprecated and will be removed in a future release. To remove this warning, do the following: 1) Pass option use_label_encoder=False when constructing XGBClassifier object; and 2) Encode your labels (y) as integers starting with 0, i.e. 0, 1, 2, ..., [num_class - 1].\n",
            "  warnings.warn(label_encoder_deprecation_msg, UserWarning)\n"
          ]
        },
        {
          "name": "stdout",
          "output_type": "stream",
          "text": [
            "[20:38:56] WARNING: C:/Users/Administrator/workspace/xgboost-win64_release_1.5.1/src/learner.cc:1115: Starting in XGBoost 1.3.0, the default evaluation metric used with the objective 'multi:softprob' was changed from 'merror' to 'mlogloss'. Explicitly set eval_metric if you'd like to restore the old behavior.\n"
          ]
        },
        {
          "name": "stderr",
          "output_type": "stream",
          "text": [
            "C:\\Users\\maria\\anaconda3\\lib\\site-packages\\xgboost\\sklearn.py:1224: UserWarning: The use of label encoder in XGBClassifier is deprecated and will be removed in a future release. To remove this warning, do the following: 1) Pass option use_label_encoder=False when constructing XGBClassifier object; and 2) Encode your labels (y) as integers starting with 0, i.e. 0, 1, 2, ..., [num_class - 1].\n",
            "  warnings.warn(label_encoder_deprecation_msg, UserWarning)\n"
          ]
        },
        {
          "name": "stdout",
          "output_type": "stream",
          "text": [
            "[20:38:59] WARNING: C:/Users/Administrator/workspace/xgboost-win64_release_1.5.1/src/learner.cc:1115: Starting in XGBoost 1.3.0, the default evaluation metric used with the objective 'multi:softprob' was changed from 'merror' to 'mlogloss'. Explicitly set eval_metric if you'd like to restore the old behavior.\n"
          ]
        },
        {
          "name": "stderr",
          "output_type": "stream",
          "text": [
            "C:\\Users\\maria\\anaconda3\\lib\\site-packages\\xgboost\\sklearn.py:1224: UserWarning: The use of label encoder in XGBClassifier is deprecated and will be removed in a future release. To remove this warning, do the following: 1) Pass option use_label_encoder=False when constructing XGBClassifier object; and 2) Encode your labels (y) as integers starting with 0, i.e. 0, 1, 2, ..., [num_class - 1].\n",
            "  warnings.warn(label_encoder_deprecation_msg, UserWarning)\n"
          ]
        },
        {
          "name": "stdout",
          "output_type": "stream",
          "text": [
            "[20:39:01] WARNING: C:/Users/Administrator/workspace/xgboost-win64_release_1.5.1/src/learner.cc:1115: Starting in XGBoost 1.3.0, the default evaluation metric used with the objective 'multi:softprob' was changed from 'merror' to 'mlogloss'. Explicitly set eval_metric if you'd like to restore the old behavior.\n"
          ]
        },
        {
          "name": "stderr",
          "output_type": "stream",
          "text": [
            "C:\\Users\\maria\\anaconda3\\lib\\site-packages\\xgboost\\sklearn.py:1224: UserWarning: The use of label encoder in XGBClassifier is deprecated and will be removed in a future release. To remove this warning, do the following: 1) Pass option use_label_encoder=False when constructing XGBClassifier object; and 2) Encode your labels (y) as integers starting with 0, i.e. 0, 1, 2, ..., [num_class - 1].\n",
            "  warnings.warn(label_encoder_deprecation_msg, UserWarning)\n"
          ]
        },
        {
          "name": "stdout",
          "output_type": "stream",
          "text": [
            "[20:39:03] WARNING: C:/Users/Administrator/workspace/xgboost-win64_release_1.5.1/src/learner.cc:1115: Starting in XGBoost 1.3.0, the default evaluation metric used with the objective 'multi:softprob' was changed from 'merror' to 'mlogloss'. Explicitly set eval_metric if you'd like to restore the old behavior.\n"
          ]
        },
        {
          "name": "stderr",
          "output_type": "stream",
          "text": [
            "C:\\Users\\maria\\anaconda3\\lib\\site-packages\\xgboost\\sklearn.py:1224: UserWarning: The use of label encoder in XGBClassifier is deprecated and will be removed in a future release. To remove this warning, do the following: 1) Pass option use_label_encoder=False when constructing XGBClassifier object; and 2) Encode your labels (y) as integers starting with 0, i.e. 0, 1, 2, ..., [num_class - 1].\n",
            "  warnings.warn(label_encoder_deprecation_msg, UserWarning)\n"
          ]
        },
        {
          "name": "stdout",
          "output_type": "stream",
          "text": [
            "[20:39:05] WARNING: C:/Users/Administrator/workspace/xgboost-win64_release_1.5.1/src/learner.cc:1115: Starting in XGBoost 1.3.0, the default evaluation metric used with the objective 'multi:softprob' was changed from 'merror' to 'mlogloss'. Explicitly set eval_metric if you'd like to restore the old behavior.\n"
          ]
        },
        {
          "name": "stderr",
          "output_type": "stream",
          "text": [
            "C:\\Users\\maria\\anaconda3\\lib\\site-packages\\xgboost\\sklearn.py:1224: UserWarning: The use of label encoder in XGBClassifier is deprecated and will be removed in a future release. To remove this warning, do the following: 1) Pass option use_label_encoder=False when constructing XGBClassifier object; and 2) Encode your labels (y) as integers starting with 0, i.e. 0, 1, 2, ..., [num_class - 1].\n",
            "  warnings.warn(label_encoder_deprecation_msg, UserWarning)\n"
          ]
        },
        {
          "name": "stdout",
          "output_type": "stream",
          "text": [
            "[20:39:07] WARNING: C:/Users/Administrator/workspace/xgboost-win64_release_1.5.1/src/learner.cc:1115: Starting in XGBoost 1.3.0, the default evaluation metric used with the objective 'multi:softprob' was changed from 'merror' to 'mlogloss'. Explicitly set eval_metric if you'd like to restore the old behavior.\n"
          ]
        },
        {
          "name": "stderr",
          "output_type": "stream",
          "text": [
            "C:\\Users\\maria\\anaconda3\\lib\\site-packages\\xgboost\\sklearn.py:1224: UserWarning: The use of label encoder in XGBClassifier is deprecated and will be removed in a future release. To remove this warning, do the following: 1) Pass option use_label_encoder=False when constructing XGBClassifier object; and 2) Encode your labels (y) as integers starting with 0, i.e. 0, 1, 2, ..., [num_class - 1].\n",
            "  warnings.warn(label_encoder_deprecation_msg, UserWarning)\n"
          ]
        },
        {
          "name": "stdout",
          "output_type": "stream",
          "text": [
            "[20:39:09] WARNING: C:/Users/Administrator/workspace/xgboost-win64_release_1.5.1/src/learner.cc:1115: Starting in XGBoost 1.3.0, the default evaluation metric used with the objective 'multi:softprob' was changed from 'merror' to 'mlogloss'. Explicitly set eval_metric if you'd like to restore the old behavior.\n"
          ]
        },
        {
          "name": "stderr",
          "output_type": "stream",
          "text": [
            "C:\\Users\\maria\\anaconda3\\lib\\site-packages\\xgboost\\sklearn.py:1224: UserWarning: The use of label encoder in XGBClassifier is deprecated and will be removed in a future release. To remove this warning, do the following: 1) Pass option use_label_encoder=False when constructing XGBClassifier object; and 2) Encode your labels (y) as integers starting with 0, i.e. 0, 1, 2, ..., [num_class - 1].\n",
            "  warnings.warn(label_encoder_deprecation_msg, UserWarning)\n"
          ]
        },
        {
          "name": "stdout",
          "output_type": "stream",
          "text": [
            "[20:39:11] WARNING: C:/Users/Administrator/workspace/xgboost-win64_release_1.5.1/src/learner.cc:1115: Starting in XGBoost 1.3.0, the default evaluation metric used with the objective 'multi:softprob' was changed from 'merror' to 'mlogloss'. Explicitly set eval_metric if you'd like to restore the old behavior.\n"
          ]
        },
        {
          "name": "stderr",
          "output_type": "stream",
          "text": [
            "C:\\Users\\maria\\anaconda3\\lib\\site-packages\\xgboost\\sklearn.py:1224: UserWarning: The use of label encoder in XGBClassifier is deprecated and will be removed in a future release. To remove this warning, do the following: 1) Pass option use_label_encoder=False when constructing XGBClassifier object; and 2) Encode your labels (y) as integers starting with 0, i.e. 0, 1, 2, ..., [num_class - 1].\n",
            "  warnings.warn(label_encoder_deprecation_msg, UserWarning)\n"
          ]
        },
        {
          "name": "stdout",
          "output_type": "stream",
          "text": [
            "[20:39:13] WARNING: C:/Users/Administrator/workspace/xgboost-win64_release_1.5.1/src/learner.cc:1115: Starting in XGBoost 1.3.0, the default evaluation metric used with the objective 'multi:softprob' was changed from 'merror' to 'mlogloss'. Explicitly set eval_metric if you'd like to restore the old behavior.\n"
          ]
        },
        {
          "name": "stderr",
          "output_type": "stream",
          "text": [
            "C:\\Users\\maria\\anaconda3\\lib\\site-packages\\xgboost\\sklearn.py:1224: UserWarning: The use of label encoder in XGBClassifier is deprecated and will be removed in a future release. To remove this warning, do the following: 1) Pass option use_label_encoder=False when constructing XGBClassifier object; and 2) Encode your labels (y) as integers starting with 0, i.e. 0, 1, 2, ..., [num_class - 1].\n",
            "  warnings.warn(label_encoder_deprecation_msg, UserWarning)\n"
          ]
        },
        {
          "name": "stdout",
          "output_type": "stream",
          "text": [
            "[20:39:15] WARNING: C:/Users/Administrator/workspace/xgboost-win64_release_1.5.1/src/learner.cc:1115: Starting in XGBoost 1.3.0, the default evaluation metric used with the objective 'multi:softprob' was changed from 'merror' to 'mlogloss'. Explicitly set eval_metric if you'd like to restore the old behavior.\n",
            "Accuracy of hgb: 92.63 %\n",
            "SD of hgb: 3.77 %\n"
          ]
        }
      ],
      "source": [
        "#CROSS\n",
        "cvxg = cross_val_score(clf3, X , y, cv = 10)\n",
        "print(\"Accuracy of hgb: {:.2f} %\".format(cvxg.mean()*100))\n",
        "print(\"SD of hgb: {:.2f} %\".format(cvxg.std()*100))"
      ]
    },
    {
      "cell_type": "code",
      "execution_count": null,
      "id": "c60ad8d5",
      "metadata": {
        "id": "c60ad8d5",
        "outputId": "dc6c1c58-c0c8-4b72-9dc7-02ff9b9d7972"
      },
      "outputs": [
        {
          "name": "stderr",
          "output_type": "stream",
          "text": [
            "C:\\Users\\maria\\anaconda3\\lib\\site-packages\\sklearn\\model_selection\\_search.py:969: UserWarning: One or more of the test scores are non-finite: [nan nan nan nan nan nan nan nan nan nan nan nan nan nan nan nan nan nan\n",
            " nan nan nan nan nan nan]\n",
            "  warnings.warn(\n",
            "C:\\Users\\maria\\anaconda3\\lib\\site-packages\\xgboost\\sklearn.py:1224: UserWarning: The use of label encoder in XGBClassifier is deprecated and will be removed in a future release. To remove this warning, do the following: 1) Pass option use_label_encoder=False when constructing XGBClassifier object; and 2) Encode your labels (y) as integers starting with 0, i.e. 0, 1, 2, ..., [num_class - 1].\n",
            "  warnings.warn(label_encoder_deprecation_msg, UserWarning)\n"
          ]
        },
        {
          "name": "stdout",
          "output_type": "stream",
          "text": [
            "[23:50:29] WARNING: C:/Users/Administrator/workspace/xgboost-win64_release_1.5.1/src/learner.cc:1115: Starting in XGBoost 1.3.0, the default evaluation metric used with the objective 'multi:softprob' was changed from 'merror' to 'mlogloss'. Explicitly set eval_metric if you'd like to restore the old behavior.\n"
          ]
        },
        {
          "data": {
            "text/plain": [
              "({'max_depth': 3, 'min_child_weight': 1}, nan)"
            ]
          },
          "execution_count": 116,
          "metadata": {},
          "output_type": "execute_result"
        }
      ],
      "source": [
        "param_test2 = {\n",
        " 'max_depth':[3,5,7,9],\n",
        " 'min_child_weight':[1,2,3,4,5,6]\n",
        "}\n",
        "gsearch2 = GridSearchCV(estimator = XGBClassifier( learning_rate=0.1, n_estimators=100, max_depth=5,\n",
        " min_child_weight=2, gamma=0,\n",
        " objective= 'multi:softmax',seed=27),\n",
        " param_grid = param_test2, scoring='roc_auc',n_jobs=-1, cv=5)\n",
        "gsearch2.fit(X,y)\n",
        "gsearch2.best_params_, gsearch2.best_score_"
      ]
    },
    {
      "cell_type": "code",
      "execution_count": null,
      "id": "ee6deea5",
      "metadata": {
        "id": "ee6deea5",
        "outputId": "515669b3-02de-4170-cd62-8d68a2a32ee3"
      },
      "outputs": [
        {
          "data": {
            "text/plain": [
              "({0: \"mean:nanparams{'max_depth': 3, 'min_child_weight': 1}\",\n",
              "  1: \"mean:nanparams{'max_depth': 3, 'min_child_weight': 2}\",\n",
              "  2: \"mean:nanparams{'max_depth': 3, 'min_child_weight': 3}\",\n",
              "  3: \"mean:nanparams{'max_depth': 3, 'min_child_weight': 4}\",\n",
              "  4: \"mean:nanparams{'max_depth': 3, 'min_child_weight': 5}\",\n",
              "  5: \"mean:nanparams{'max_depth': 3, 'min_child_weight': 6}\",\n",
              "  6: \"mean:nanparams{'max_depth': 5, 'min_child_weight': 1}\",\n",
              "  7: \"mean:nanparams{'max_depth': 5, 'min_child_weight': 2}\",\n",
              "  8: \"mean:nanparams{'max_depth': 5, 'min_child_weight': 3}\",\n",
              "  9: \"mean:nanparams{'max_depth': 5, 'min_child_weight': 4}\",\n",
              "  10: \"mean:nanparams{'max_depth': 5, 'min_child_weight': 5}\",\n",
              "  11: \"mean:nanparams{'max_depth': 5, 'min_child_weight': 6}\",\n",
              "  12: \"mean:nanparams{'max_depth': 7, 'min_child_weight': 1}\",\n",
              "  13: \"mean:nanparams{'max_depth': 7, 'min_child_weight': 2}\",\n",
              "  14: \"mean:nanparams{'max_depth': 7, 'min_child_weight': 3}\",\n",
              "  15: \"mean:nanparams{'max_depth': 7, 'min_child_weight': 4}\",\n",
              "  16: \"mean:nanparams{'max_depth': 7, 'min_child_weight': 5}\",\n",
              "  17: \"mean:nanparams{'max_depth': 7, 'min_child_weight': 6}\",\n",
              "  18: \"mean:nanparams{'max_depth': 9, 'min_child_weight': 1}\",\n",
              "  19: \"mean:nanparams{'max_depth': 9, 'min_child_weight': 2}\",\n",
              "  20: \"mean:nanparams{'max_depth': 9, 'min_child_weight': 3}\",\n",
              "  21: \"mean:nanparams{'max_depth': 9, 'min_child_weight': 4}\",\n",
              "  22: \"mean:nanparams{'max_depth': 9, 'min_child_weight': 5}\",\n",
              "  23: \"mean:nanparams{'max_depth': 9, 'min_child_weight': 6}\"},\n",
              " {'best_mean': nan, 'best_param': {'max_depth': 3, 'min_child_weight': 1}})"
            ]
          },
          "execution_count": 118,
          "metadata": {},
          "output_type": "execute_result"
        }
      ],
      "source": [
        "getTrainScores(gsearch2)"
      ]
    },
    {
      "cell_type": "code",
      "execution_count": null,
      "id": "f5381895",
      "metadata": {
        "id": "f5381895",
        "outputId": "dd826284-4442-43e1-94bb-fe479ba03177"
      },
      "outputs": [
        {
          "data": {
            "text/plain": [
              "({'max_depth': 4, 'min_child_weight': 1}, nan)"
            ]
          },
          "execution_count": 79,
          "metadata": {},
          "output_type": "execute_result"
        }
      ],
      "source": [
        "gsearch2.best_params_, gsearch2.best_score_"
      ]
    },
    {
      "cell_type": "code",
      "execution_count": null,
      "id": "8e12ef08",
      "metadata": {
        "id": "8e12ef08",
        "outputId": "a3fd0853-8422-49f2-bbf4-067611da20b9"
      },
      "outputs": [
        {
          "name": "stdout",
          "output_type": "stream",
          "text": [
            "Fitting 3 folds for each of 5 candidates, totalling 15 fits\n"
          ]
        },
        {
          "name": "stderr",
          "output_type": "stream",
          "text": [
            "C:\\Users\\maria\\anaconda3\\lib\\site-packages\\xgboost\\sklearn.py:1224: UserWarning: The use of label encoder in XGBClassifier is deprecated and will be removed in a future release. To remove this warning, do the following: 1) Pass option use_label_encoder=False when constructing XGBClassifier object; and 2) Encode your labels (y) as integers starting with 0, i.e. 0, 1, 2, ..., [num_class - 1].\n",
            "  warnings.warn(label_encoder_deprecation_msg, UserWarning)\n"
          ]
        },
        {
          "name": "stdout",
          "output_type": "stream",
          "text": [
            "[23:35:40] WARNING: C:/Users/Administrator/workspace/xgboost-win64_release_1.5.1/src/learner.cc:1115: Starting in XGBoost 1.3.0, the default evaluation metric used with the objective 'multi:softprob' was changed from 'merror' to 'mlogloss'. Explicitly set eval_metric if you'd like to restore the old behavior.\n"
          ]
        },
        {
          "data": {
            "text/plain": [
              "GridSearchCV(cv=3,\n",
              "             estimator=XGBClassifier(base_score=0.5, booster='gbtree',\n",
              "                                     colsample_bylevel=1, colsample_bynode=1,\n",
              "                                     colsample_bytree=1,\n",
              "                                     enable_categorical=False, gamma=0,\n",
              "                                     gpu_id=-1, importance_type=None,\n",
              "                                     interaction_constraints='',\n",
              "                                     learning_rate=0.1, max_delta_step=0,\n",
              "                                     max_depth=4, min_child_weight=1,\n",
              "                                     missing=nan, monotone_constraints='()',\n",
              "                                     n_estimators=100, n_jobs=16,\n",
              "                                     num_parallel_tree=1,\n",
              "                                     objective='multi:softprob',\n",
              "                                     predictor='auto', random_state=27,\n",
              "                                     reg_alpha=0, reg_lambda=1,\n",
              "                                     scale_pos_weight=None, seed=27,\n",
              "                                     subsample=1, tree_method='exact',\n",
              "                                     validate_parameters=1, verbosity=None),\n",
              "             n_jobs=-1, param_grid={'reg_alpha': [1e-05, 0.01, 0.1, 1, 100]},\n",
              "             scoring='f1_micro', verbose=10)"
            ]
          },
          "execution_count": 84,
          "metadata": {},
          "output_type": "execute_result"
        }
      ],
      "source": [
        "param_test2 = {\n",
        " 'reg_alpha':[1e-5, 1e-2, 0.1, 1, 100]\n",
        "}\n",
        "gsearch2 = GridSearchCV(estimator = clf3, param_grid = param_test2, scoring='f1_micro',n_jobs=-1,verbose = 10, cv=3)\n",
        "gsearch2.fit(X, y)"
      ]
    },
    {
      "cell_type": "code",
      "execution_count": null,
      "id": "47c624df",
      "metadata": {
        "id": "47c624df",
        "outputId": "2d7ff36f-7727-4d4f-ecd3-4718bd804a78"
      },
      "outputs": [
        {
          "data": {
            "text/plain": [
              "({0: \"mean:0.9123220821964954params{'reg_alpha': 1e-05}\",\n",
              "  1: \"mean:0.9124642891982665params{'reg_alpha': 0.01}\",\n",
              "  2: \"mean:0.9134590717100165params{'reg_alpha': 0.1}\",\n",
              "  3: \"mean:0.915164768048686params{'reg_alpha': 1}\",\n",
              "  4: \"mean:0.9030850497239779params{'reg_alpha': 100}\"},\n",
              " {'best_mean': 0.915164768048686, 'best_param': {'reg_alpha': 1}})"
            ]
          },
          "execution_count": 87,
          "metadata": {},
          "output_type": "execute_result"
        }
      ],
      "source": [
        "getTrainScores(gsearch2)"
      ]
    },
    {
      "cell_type": "code",
      "execution_count": null,
      "id": "da5cb6c8",
      "metadata": {
        "id": "da5cb6c8"
      },
      "outputs": [],
      "source": [
        "def getTrainScores(gs):\n",
        "    results = {}\n",
        "    runs = 0\n",
        "    for x,y in zip(list(gs.cv_results_['mean_test_score']), gs.cv_results_['params']):\n",
        "        results[runs] = 'mean:' + str(x) + 'params' + str(y)\n",
        "        runs += 1\n",
        "    best = {'best_mean': gs.best_score_, \"best_param\":gs.best_params_}\n",
        "    return results, best"
      ]
    },
    {
      "cell_type": "code",
      "execution_count": null,
      "id": "4eb10bff",
      "metadata": {
        "id": "4eb10bff"
      },
      "outputs": [],
      "source": [
        "from xgboost import plot_tree"
      ]
    },
    {
      "cell_type": "code",
      "execution_count": null,
      "id": "2246a920",
      "metadata": {
        "id": "2246a920",
        "outputId": "f0b6fcfb-d9b6-4829-8769-030faa5466ac"
      },
      "outputs": [
        {
          "data": {
            "image/png": "[encoded data removed]",
            "text/plain": [
              "<Figure size 432x288 with 1 Axes>"
            ]
          },
          "metadata": {
            "needs_background": "light"
          },
          "output_type": "display_data"
        }
      ],
      "source": [
        "#plot single tree\n",
        "plot_tree(clf3, num_trees=3,rankdir='LR')\n",
        "plt.show()"
      ]
    },
    {
      "cell_type": "markdown",
      "id": "1c3cb1f5",
      "metadata": {
        "id": "1c3cb1f5"
      },
      "source": [
        "# LIGHTGBM"
      ]
    },
    {
      "cell_type": "code",
      "execution_count": null,
      "id": "6129f994",
      "metadata": {
        "id": "6129f994",
        "outputId": "68ea1c91-fce8-4125-bd92-44db4218b5f3"
      },
      "outputs": [
        {
          "name": "stdout",
          "output_type": "stream",
          "text": [
            "[LightGBM] [Warning] feature_fraction is set=0.8, colsample_bytree=1.0 will be ignored. Current value: feature_fraction=0.8\n",
            "[LightGBM] [Warning] bagging_freq is set=5, subsample_freq=0 will be ignored. Current value: bagging_freq=5\n",
            "Accuracy 0.9226331862911435\n",
            "F1-score [0.93625498 0.89326425 0.91831683 0.88278775 0.89881495 0.99906803]\n",
            "              precision    recall  f1-score   support\n",
            "\n",
            "           1       0.93      0.95      0.94       496\n",
            "           2       0.87      0.92      0.89       471\n",
            "           3       0.96      0.88      0.92       420\n",
            "           4       0.92      0.85      0.88       491\n",
            "           5       0.87      0.93      0.90       532\n",
            "           6       1.00      1.00      1.00       537\n",
            "\n",
            "    accuracy                           0.92      2947\n",
            "   macro avg       0.92      0.92      0.92      2947\n",
            "weighted avg       0.92      0.92      0.92      2947\n",
            "\n"
          ]
        }
      ],
      "source": [
        "clf = LGBMClassifier(boosting_type='gbdt',  #'goss', #'dart'\n",
        "                     max_depth=7, # no limit\n",
        "                     num_leaves=8,\n",
        "                     n_estimators=50,\n",
        "                     subsample_for_bin=20000,\n",
        "                     objective='muticlass',\n",
        "                     reg_alpha=4, #L1 regularization term on weights\n",
        "                     reg_lambda=3, #L2 regularization term on weights\n",
        "                     random_state=42,\n",
        "                     learning_rate=0.2,\n",
        "                     bagging_freq=5,\n",
        "                     #bagging_fraction=0.75,\n",
        "                     feature_fraction=0.8,\n",
        "\n",
        "                   )\n",
        "clf.fit(X, y)\n",
        "\n",
        "y_predli = clf.predict(Xtest)\n",
        "\n",
        "print('Accuracy %s' % accuracy_score(ytest, y_predli))\n",
        "print('F1-score %s' % f1_score(ytest, y_predli, average=None))\n",
        "print(classification_report(ytest, y_predli))"
      ]
    },
    {
      "cell_type": "code",
      "execution_count": null,
      "id": "738fc460",
      "metadata": {
        "id": "738fc460",
        "outputId": "a516c2bf-9b34-4fcd-b685-e978f979109c"
      },
      "outputs": [
        {
          "name": "stdout",
          "output_type": "stream",
          "text": [
            "[LightGBM] [Warning] feature_fraction is set=0.8, colsample_bytree=1.0 will be ignored. Current value: feature_fraction=0.8\n",
            "[LightGBM] [Warning] bagging_freq is set=5, subsample_freq=0 will be ignored. Current value: bagging_freq=5\n",
            "[LightGBM] [Warning] feature_fraction is set=0.8, colsample_bytree=1.0 will be ignored. Current value: feature_fraction=0.8\n",
            "[LightGBM] [Warning] bagging_freq is set=5, subsample_freq=0 will be ignored. Current value: bagging_freq=5\n",
            "[LightGBM] [Warning] feature_fraction is set=0.8, colsample_bytree=1.0 will be ignored. Current value: feature_fraction=0.8\n",
            "[LightGBM] [Warning] bagging_freq is set=5, subsample_freq=0 will be ignored. Current value: bagging_freq=5\n",
            "[LightGBM] [Warning] feature_fraction is set=0.8, colsample_bytree=1.0 will be ignored. Current value: feature_fraction=0.8\n",
            "[LightGBM] [Warning] bagging_freq is set=5, subsample_freq=0 will be ignored. Current value: bagging_freq=5\n",
            "[LightGBM] [Warning] feature_fraction is set=0.8, colsample_bytree=1.0 will be ignored. Current value: feature_fraction=0.8\n",
            "[LightGBM] [Warning] bagging_freq is set=5, subsample_freq=0 will be ignored. Current value: bagging_freq=5\n",
            "[LightGBM] [Warning] feature_fraction is set=0.8, colsample_bytree=1.0 will be ignored. Current value: feature_fraction=0.8\n",
            "[LightGBM] [Warning] bagging_freq is set=5, subsample_freq=0 will be ignored. Current value: bagging_freq=5\n",
            "[LightGBM] [Warning] feature_fraction is set=0.8, colsample_bytree=1.0 will be ignored. Current value: feature_fraction=0.8\n",
            "[LightGBM] [Warning] bagging_freq is set=5, subsample_freq=0 will be ignored. Current value: bagging_freq=5\n",
            "[LightGBM] [Warning] feature_fraction is set=0.8, colsample_bytree=1.0 will be ignored. Current value: feature_fraction=0.8\n",
            "[LightGBM] [Warning] bagging_freq is set=5, subsample_freq=0 will be ignored. Current value: bagging_freq=5\n",
            "[LightGBM] [Warning] feature_fraction is set=0.8, colsample_bytree=1.0 will be ignored. Current value: feature_fraction=0.8\n",
            "[LightGBM] [Warning] bagging_freq is set=5, subsample_freq=0 will be ignored. Current value: bagging_freq=5\n",
            "[LightGBM] [Warning] feature_fraction is set=0.8, colsample_bytree=1.0 will be ignored. Current value: feature_fraction=0.8\n",
            "[LightGBM] [Warning] bagging_freq is set=5, subsample_freq=0 will be ignored. Current value: bagging_freq=5\n",
            "Accuracy of hgb: 93.12 %\n",
            "SD of hgb: 4.01 %\n"
          ]
        }
      ],
      "source": [
        "#CROSS\n",
        "cvl = cross_val_score(clf, X , y, cv = 10)\n",
        "print(\"Accuracy of hgb: {:.2f} %\".format(cvl.mean()*100))\n",
        "print(\"SD of hgb: {:.2f} %\".format(cvl.std()*100))"
      ]
    },
    {
      "cell_type": "code",
      "execution_count": null,
      "id": "7730a8d2",
      "metadata": {
        "id": "7730a8d2",
        "outputId": "f6238bf6-310c-45e6-e081-021bdfd60c26"
      },
      "outputs": [
        {
          "data": {
            "text/plain": [
              "<AxesSubplot:title={'center':'Feature importance'}, xlabel='Feature importance', ylabel='Features'>"
            ]
          },
          "execution_count": 153,
          "metadata": {},
          "output_type": "execute_result"
        },
        {
          "data": {
            "image/png": "[encoded data removed]",
            "text/plain": [
              "<Figure size 432x288 with 1 Axes>"
            ]
          },
          "metadata": {
            "needs_background": "light"
          },
          "output_type": "display_data"
        }
      ],
      "source": [
        "lgb.plot_importance(clf, max_num_features=10, )"
      ]
    },
    {
      "cell_type": "code",
      "execution_count": null,
      "id": "a550b9e4",
      "metadata": {
        "id": "a550b9e4",
        "outputId": "d7bf7746-d468-42e2-9908-2cf0d1cfc1ce"
      },
      "outputs": [
        {
          "data": {
            "text/plain": [
              "<AxesSubplot:>"
            ]
          },
          "execution_count": 102,
          "metadata": {},
          "output_type": "execute_result"
        },
        {
          "data": {
            "image/png": "[encoded data removed]",
            "text/plain": [
              "<Figure size 1080x1080 with 1 Axes>"
            ]
          },
          "metadata": {
            "needs_background": "light"
          },
          "output_type": "display_data"
        }
      ],
      "source": [
        "lgb.plot_tree(clf, tree_index=3, figsize=(15, 15), show_info=['split_gain'])"
      ]
    },
    {
      "cell_type": "code",
      "execution_count": null,
      "id": "1645e182",
      "metadata": {
        "id": "1645e182"
      },
      "outputs": [],
      "source": [
        "import pydotplus\n",
        "from sklearn import tree"
      ]
    },
    {
      "cell_type": "code",
      "execution_count": null,
      "id": "c08e5554",
      "metadata": {
        "id": "c08e5554",
        "outputId": "af625243-3eed-4f10-a487-df4ed74683af"
      },
      "outputs": [
        {
          "name": "stdout",
          "output_type": "stream",
          "text": [
            "Model test Score: 0.923,  Model training Score: 0.997\n"
          ]
        }
      ],
      "source": [
        "print('Model test Score: %.3f, ' %clf.score(Xtest, ytest),\n",
        "      'Model training Score: %.3f' %clf.score(X, y))"
      ]
    }
  ],
  "metadata": {
    "kernelspec": {
      "display_name": "Python 3",
      "language": "python",
      "name": "python3"
    },
    "language_info": {
      "codemirror_mode": {
        "name": "ipython",
        "version": 3
      },
      "file_extension": ".py",
      "mimetype": "text/x-python",
      "name": "python",
      "nbconvert_exporter": "python",
      "pygments_lexer": "ipython3",
      "version": "3.8.8"
    },
    "colab": {
      "provenance": []
    }
  },
  "nbformat": 4,
  "nbformat_minor": 5
}