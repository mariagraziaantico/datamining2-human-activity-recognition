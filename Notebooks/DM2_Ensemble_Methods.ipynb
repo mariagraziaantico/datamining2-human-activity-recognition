{
  "cells": [
    {
      "cell_type": "code",
      "execution_count": null,
      "id": "72fa77f2",
      "metadata": {
        "id": "72fa77f2"
      },
      "outputs": [],
      "source": [
        "%matplotlib inline\n",
        "\n",
        "import numpy as np\n",
        "import pandas as pd\n",
        "import seaborn as sns\n",
        "import matplotlib.pyplot as plt\n",
        "\n",
        "from collections import Counter\n",
        "from collections import defaultdict\n",
        "from sklearn.ensemble import RandomForestClassifier\n",
        "from sklearn.model_selection import train_test_split, cross_val_score\n",
        "\n",
        "from sklearn.metrics import accuracy_score, f1_score, classification_report\n",
        "from sklearn.metrics import roc_curve, auc, roc_auc_score\n",
        "from sklearn.metrics import mean_squared_error\n",
        "import matplotlib.pyplot as plt\n",
        "from matplotlib.legend_handler import HandlerLine2D\n",
        "from sklearn.naive_bayes import GaussianNB\n",
        "from sklearn.ensemble import AdaBoostClassifier\n",
        "from sklearn.inspection import permutation_importance\n",
        "from sklearn.tree import DecisionTreeClassifier\n",
        "from sklearn.metrics import confusion_matrix, accuracy_score\n",
        "from sklearn.metrics import ConfusionMatrixDisplay\n",
        "from sklearn.neighbors import KNeighborsClassifier\n",
        "from sklearn.tree import DecisionTreeClassifier\n",
        "from sklearn.neural_network import MLPClassifier\n",
        "from sklearn.naive_bayes import GaussianNB\n",
        "from sklearn.linear_model import LogisticRegression\n",
        "from sklearn.model_selection import cross_val_score, cross_validate, RepeatedKFold\n",
        "from sklearn.model_selection import train_test_split\n",
        "from sklearn.ensemble import BaggingClassifier\n",
        "from sklearn.preprocessing import StandardScaler\n",
        "from sklearn.pipeline import Pipeline\n",
        "#####TUNING\n",
        "from sklearn.model_selection import GridSearchCV\n",
        "from sklearn.model_selection import RepeatedStratifiedKFold\n",
        "from sklearn.model_selection import RandomizedSearchCV"
      ]
    },
    {
      "cell_type": "code",
      "execution_count": null,
      "id": "acfa05fc",
      "metadata": {
        "id": "acfa05fc"
      },
      "outputs": [],
      "source": [
        "import pydotplus\n",
        "from sklearn import tree\n",
        "from IPython.display import Image\n",
        "import seaborn as sns\n",
        "from sklearn.model_selection import cross_val_score\n",
        "from numpy import mean\n",
        "from numpy import std"
      ]
    },
    {
      "cell_type": "code",
      "execution_count": null,
      "id": "178a5062",
      "metadata": {
        "id": "178a5062",
        "outputId": "1a254b57-0e3c-4fd5-9673-0b804c21768f",
        "colab": {
          "base_uri": "https://localhost:8080/"
        }
      },
      "outputs": [
        {
          "output_type": "execute_result",
          "data": {
            "text/plain": [
              "Index(['tBodyAcc-entropy()-X', 'tBodyAcc-correlation()-X,Y',\n",
              "       'tBodyAcc-correlation()-Y,Z', 'tGravityAcc-mean()-Y',\n",
              "       'tGravityAcc-max()-X', 'tGravityAcc-max()-Z', 'tGravityAcc-min()-X',\n",
              "       'tGravityAcc-min()-Y', 'tGravityAcc-energy()-Y',\n",
              "       'tGravityAcc-arCoeff()-Y,1', 'tGravityAcc-arCoeff()-Y,3',\n",
              "       'tGravityAcc-arCoeff()-Z,2', 'tGravityAcc-arCoeff()-Z,4',\n",
              "       'tBodyGyro-max()-X', 'tBodyGyro-min()-X', 'tBodyGyro-arCoeff()-Y,1',\n",
              "       'tBodyGyro-correlation()-Y,Z', 'tBodyGyroJerk-iqr()-Y',\n",
              "       'tGravityAccMag-arCoeff()1', 'fBodyAcc-max()-X', 'fBodyAcc-max()-Y',\n",
              "       'fBodyAccJerk-max()-Y', 'fBodyAccJerk-bandsEnergy()-1,16',\n",
              "       'fBodyGyro-maxInds-X', 'fBodyGyro-meanFreq()-X', 'fBodyAccMag-mad()',\n",
              "       'fBodyAccMag-energy()', 'fBodyBodyGyroJerkMag-std()',\n",
              "       'angle(Y,gravityMean)'],\n",
              "      dtype='object')"
            ]
          },
          "metadata": {},
          "execution_count": 2
        }
      ],
      "source": [
        "df=pd.read_csv('df_RFE_6Class_LOF.csv')\n",
        "df2=df.drop(columns=['Unnamed: 0','label'])\n",
        "df2.columns"
      ]
    },
    {
      "cell_type": "code",
      "execution_count": null,
      "id": "3c3abaaf",
      "metadata": {
        "id": "3c3abaaf"
      },
      "outputs": [],
      "source": [
        "X = df2.values\n",
        "y = np.array(df['label'])"
      ]
    },
    {
      "cell_type": "code",
      "execution_count": null,
      "id": "b4a76683",
      "metadata": {
        "id": "b4a76683"
      },
      "outputs": [],
      "source": [
        "test = pd.read_csv('df_RFE_test.csv')\n",
        "test2=test.drop(columns=['Unnamed: 0','label'])"
      ]
    },
    {
      "cell_type": "code",
      "execution_count": null,
      "id": "3caee9b9",
      "metadata": {
        "id": "3caee9b9"
      },
      "outputs": [],
      "source": [
        "Xtest= test2.values\n",
        "ytest = np.array(test['label'])"
      ]
    },
    {
      "cell_type": "markdown",
      "id": "293d2261",
      "metadata": {
        "id": "293d2261"
      },
      "source": [
        "# Difference between Random Forest and Decision Tree"
      ]
    },
    {
      "cell_type": "code",
      "execution_count": null,
      "id": "473ba19a",
      "metadata": {
        "id": "473ba19a"
      },
      "outputs": [],
      "source": [
        "######CON IL TUNING - LOF\n",
        "clas = RandomForestClassifier(n_estimators=100, criterion='gini', max_depth=8, min_samples_split=30,\n",
        "                             min_samples_leaf=30, min_weight_fraction_leaf=0.0, max_features='auto', random_state=0)"
      ]
    },
    {
      "cell_type": "code",
      "execution_count": null,
      "id": "2cc4ba9d",
      "metadata": {
        "id": "2cc4ba9d",
        "outputId": "7d2f65ca-f0e0-4b76-b774-bbc080b7136b",
        "colab": {
          "base_uri": "https://localhost:8080/"
        }
      },
      "outputs": [
        {
          "output_type": "stream",
          "name": "stdout",
          "text": [
            "Mean Accuracy: 0.952 (0.009)\n"
          ]
        }
      ],
      "source": [
        "cv = RepeatedStratifiedKFold(n_splits=10, n_repeats=3, random_state=1)\n",
        "n_scores = cross_val_score(clas, X, y, scoring='accuracy', cv=cv, n_jobs=-1)\n",
        "# report the model performance\n",
        "print('Mean Accuracy: %.3f (%.3f)' % (mean(n_scores), std(n_scores)))"
      ]
    },
    {
      "cell_type": "code",
      "execution_count": null,
      "id": "6735abdf",
      "metadata": {
        "id": "6735abdf",
        "outputId": "cd783534-209f-4588-e1b5-04f5cc3a6df2",
        "colab": {
          "base_uri": "https://localhost:8080/"
        }
      },
      "outputs": [
        {
          "output_type": "stream",
          "name": "stderr",
          "text": [
            "/usr/local/lib/python3.10/dist-packages/sklearn/ensemble/_forest.py:424: FutureWarning: `max_features='auto'` has been deprecated in 1.1 and will be removed in 1.3. To keep the past behaviour, explicitly set `max_features='sqrt'` or remove this parameter as it is also the default value for RandomForestClassifiers and ExtraTreesClassifiers.\n",
            "  warn(\n"
          ]
        },
        {
          "output_type": "stream",
          "name": "stdout",
          "text": [
            "Accuracy 0.8859857482185273\n",
            "F1-score [0.89980732 0.87965921 0.90362954 0.80250784 0.82612695 1.        ]\n",
            "              precision    recall  f1-score   support\n",
            "\n",
            "           1       0.86      0.94      0.90       496\n",
            "           2       0.88      0.88      0.88       471\n",
            "           3       0.95      0.86      0.90       420\n",
            "           4       0.82      0.78      0.80       491\n",
            "           5       0.81      0.84      0.83       532\n",
            "           6       1.00      1.00      1.00       537\n",
            "\n",
            "    accuracy                           0.89      2947\n",
            "   macro avg       0.89      0.88      0.89      2947\n",
            "weighted avg       0.89      0.89      0.89      2947\n",
            "\n"
          ]
        }
      ],
      "source": [
        "######CON IL TUNING - LOF\n",
        "clas.fit(X, y)\n",
        "y_pred444 = clas.predict(Xtest)\n",
        "\n",
        "print('Accuracy %s' % accuracy_score(ytest, y_pred444))\n",
        "print('F1-score %s' % f1_score(ytest, y_pred444, average=None))\n",
        "print(classification_report(ytest, y_pred444))"
      ]
    },
    {
      "cell_type": "code",
      "execution_count": null,
      "id": "2c548208",
      "metadata": {
        "id": "2c548208",
        "outputId": "fff929fa-8988-4d7a-ef5e-6cf4216d8adc",
        "colab": {
          "base_uri": "https://localhost:8080/"
        }
      },
      "outputs": [
        {
          "output_type": "stream",
          "name": "stdout",
          "text": [
            "{'Train': 0.9612050589739946, 'Test': 0.8859857482185273}\n"
          ]
        }
      ],
      "source": [
        "scores = {\n",
        "        'Train': accuracy_score(y, clas.predict(X)),\n",
        "        'Test': accuracy_score(ytest, clas.predict(Xtest)),\n",
        "    }\n",
        "print(scores)"
      ]
    },
    {
      "cell_type": "code",
      "execution_count": null,
      "id": "aab1c2bf",
      "metadata": {
        "id": "aab1c2bf",
        "outputId": "72a7ac9c-f1d8-4995-881b-f90a89b51a4a",
        "colab": {
          "base_uri": "https://localhost:8080/"
        }
      },
      "outputs": [
        {
          "output_type": "execute_result",
          "data": {
            "text/plain": [
              "array([0.00821975, 0.02213419, 0.00599913, 0.06359385, 0.07301212,\n",
              "       0.02491914, 0.0910052 , 0.07972798, 0.03630747, 0.02917696,\n",
              "       0.0177891 , 0.0331851 , 0.02714744, 0.01447979, 0.00847789,\n",
              "       0.00167294, 0.00577837, 0.02889916, 0.02141818, 0.05366376,\n",
              "       0.01020771, 0.04604724, 0.05544452, 0.00960291, 0.00946697,\n",
              "       0.06485785, 0.07864728, 0.0163659 , 0.06275211])"
            ]
          },
          "metadata": {},
          "execution_count": 16
        }
      ],
      "source": [
        "clas.feature_importances_"
      ]
    },
    {
      "cell_type": "code",
      "execution_count": null,
      "id": "0c478039",
      "metadata": {
        "id": "0c478039",
        "outputId": "c2ec47fd-e0e5-48dc-a1e1-3913bac9eb8f",
        "colab": {
          "base_uri": "https://localhost:8080/",
          "height": 605
        }
      },
      "outputs": [
        {
          "output_type": "execute_result",
          "data": {
            "text/plain": [
              "Text(0, 0.5, 'Feature Importance')"
            ]
          },
          "metadata": {},
          "execution_count": 17
        },
        {
          "output_type": "display_data",
          "data": {
            "text/plain": [
              "<Figure size 500x400 with 1 Axes>"
            ],
            "image/png": "[encoded data removed]"
          },
          "metadata": {}
        }
      ],
      "source": [
        "names = list(df2.columns)\n",
        "sorted_idx = clas.feature_importances_.argsort()\n",
        "y_pos = np.arange((len(sorted_idx)))\n",
        "f = plt.figure(figsize=(5,4))\n",
        "plt.bar(y_pos, clas.feature_importances_, align='center', width = 0.3, alpha=0.5,\n",
        "        label = \"Feature\")\n",
        "plt.xticks(y_pos.argsort(), names, rotation=90)\n",
        "plt.ylabel('Feature Importance')\n",
        "#f.savefig('RF-FI.pdf',bbox_inches='tight')"
      ]
    },
    {
      "cell_type": "code",
      "execution_count": null,
      "id": "f326f8a3",
      "metadata": {
        "id": "f326f8a3"
      },
      "outputs": [],
      "source": [
        "def plot_feature_importance(importance,names,model_type):\n",
        "    #Create arrays from feature importance and feature names\n",
        "    feature_importance = np.array(importance)\n",
        "    feature_names = np.array(names)\n",
        "\n",
        "    #Create a DataFrame using a Dictionary\n",
        "    data={'feature_names':feature_names,'feature_importance':feature_importance}\n",
        "    fi_df = pd.DataFrame(data)\n",
        "\n",
        "    #Sort the DataFrame in order decreasing feature importance\n",
        "    fi_df.sort_values(by=['feature_importance'], ascending=False,inplace=True)\n",
        "\n",
        "    #Define size of bar plot\n",
        "    plt.figure(figsize=(10,8))\n",
        "    #Plot Searborn bar chart\n",
        "    sns.barplot(x=fi_df['feature_importance'], y=fi_df['feature_names'])\n",
        "    #Add chart labels\n",
        "    plt.title(model_type + 'FEATURE IMPORTANCE')\n",
        "    plt.xlabel('FEATURE IMPORTANCE')\n",
        "    plt.ylabel('FEATURE NAMES')"
      ]
    },
    {
      "cell_type": "code",
      "execution_count": null,
      "id": "f37c9b7c",
      "metadata": {
        "id": "f37c9b7c",
        "outputId": "4a28640a-8969-4247-c960-030e04ac0346",
        "colab": {
          "base_uri": "https://localhost:8080/",
          "height": 738
        }
      },
      "outputs": [
        {
          "output_type": "display_data",
          "data": {
            "text/plain": [
              "<Figure size 1000x800 with 1 Axes>"
            ],
            "image/png": "[encoded data removed]"
          },
          "metadata": {}
        }
      ],
      "source": [
        "plot_feature_importance(clas.feature_importances_,df2.columns,'RANDOM FOREST')"
      ]
    },
    {
      "cell_type": "code",
      "execution_count": null,
      "metadata": {
        "id": "29aecb41",
        "outputId": "04b8916f-0ff7-4598-ed9e-d37bd06ee9cc"
      },
      "outputs": [
        {
          "name": "stdout",
          "output_type": "stream",
          "text": [
            "Accuracy 0.8866644044791313\n",
            "F1-score [0.91176471 0.86570248 0.90494297 0.80503145 0.82828283 1.        ]\n",
            "              precision    recall  f1-score   support\n",
            "\n",
            "           1       0.89      0.94      0.91       496\n",
            "           2       0.84      0.89      0.87       471\n",
            "           3       0.97      0.85      0.90       420\n",
            "           4       0.83      0.78      0.81       491\n",
            "           5       0.81      0.85      0.83       532\n",
            "           6       1.00      1.00      1.00       537\n",
            "\n",
            "    accuracy                           0.89      2947\n",
            "   macro avg       0.89      0.88      0.89      2947\n",
            "weighted avg       0.89      0.89      0.89      2947\n",
            "\n"
          ]
        }
      ],
      "source": [
        "clf=RandomForestClassifier()\n",
        "param_list = {'max_depth': [None] + list(np.arange(2, 20)),\n",
        "              'min_samples_split': [2, 5, 10, 20, 30, 50, 100],\n",
        "              'min_samples_leaf': [1, 5, 10, 20, 30, 50, 100],\n",
        "             'n_estimators':[100],\n",
        "             'max_features': ['auto', 'log2']}\n",
        "\n",
        "random_search = RandomizedSearchCV(clf, param_distributions=param_list, n_iter=20, cv=10)\n",
        "random_search.fit(X, y)\n",
        "clf = random_search.best_estimator_\n",
        "\n",
        "\n",
        "y_pred6 = clf.predict(Xtest)\n",
        "\n",
        "print('Accuracy %s' % accuracy_score(ytest, y_pred6))\n",
        "print('F1-score %s' % f1_score(ytest, y_pred6, average=None))\n",
        "print(classification_report(ytest, y_pred6))"
      ],
      "id": "29aecb41"
    },
    {
      "cell_type": "code",
      "execution_count": null,
      "metadata": {
        "id": "4ab7e249",
        "outputId": "8cf318cf-31d9-4d40-fd45-f23cc0a73037"
      },
      "outputs": [
        {
          "data": {
            "text/plain": [
              "{'n_estimators': 100,\n",
              " 'min_samples_split': 30,\n",
              " 'min_samples_leaf': 30,\n",
              " 'max_features': 'auto',\n",
              " 'max_depth': 8}"
            ]
          },
          "execution_count": 132,
          "metadata": {},
          "output_type": "execute_result"
        }
      ],
      "source": [
        "random_search.cv_results_['params'][random_search.cv_results_['rank_test_score'][0]]"
      ],
      "id": "4ab7e249"
    },
    {
      "cell_type": "code",
      "execution_count": null,
      "id": "e718ff2f",
      "metadata": {
        "id": "e718ff2f"
      },
      "outputs": [],
      "source": [
        "clf2=DecisionTreeClassifier(min_samples_split=10, min_samples_leaf= 5, max_depth=19)"
      ]
    },
    {
      "cell_type": "code",
      "execution_count": null,
      "id": "0c9d7158",
      "metadata": {
        "id": "0c9d7158",
        "outputId": "4d12121a-122c-4cc2-9711-fd66563a9cc3",
        "colab": {
          "base_uri": "https://localhost:8080/"
        }
      },
      "outputs": [
        {
          "output_type": "stream",
          "name": "stdout",
          "text": [
            "Accuracy 0.8625721072276892\n",
            "F1-score [0.88257576 0.79914071 0.80813215 0.81684211 0.84124088 1.        ]\n",
            "              precision    recall  f1-score   support\n",
            "\n",
            "           1       0.83      0.94      0.88       496\n",
            "           2       0.81      0.79      0.80       471\n",
            "           3       0.87      0.76      0.81       420\n",
            "           4       0.85      0.79      0.82       491\n",
            "           5       0.82      0.87      0.84       532\n",
            "           6       1.00      1.00      1.00       537\n",
            "\n",
            "    accuracy                           0.86      2947\n",
            "   macro avg       0.86      0.86      0.86      2947\n",
            "weighted avg       0.86      0.86      0.86      2947\n",
            "\n"
          ]
        }
      ],
      "source": [
        "clf2.fit(X, y)\n",
        "y_predtree = clf2.predict(Xtest)\n",
        "\n",
        "print('Accuracy %s' % accuracy_score(ytest, y_predtree))\n",
        "print('F1-score %s' % f1_score(ytest, y_predtree, average=None))\n",
        "print(classification_report(ytest, y_predtree))"
      ]
    },
    {
      "cell_type": "code",
      "execution_count": null,
      "id": "d9e0dc13",
      "metadata": {
        "id": "d9e0dc13",
        "outputId": "9c899037-ddb1-4264-e527-5c6d8bdf6ac1",
        "colab": {
          "base_uri": "https://localhost:8080/"
        }
      },
      "outputs": [
        {
          "output_type": "stream",
          "name": "stdout",
          "text": [
            "Model test Score: 0.863,  Model training Score: 0.983\n"
          ]
        }
      ],
      "source": [
        "#score in train e test set\n",
        "print('Model test Score: %.3f, ' %clf2.score(Xtest, ytest),\n",
        "      'Model training Score: %.3f' %clf2.score(X, y))"
      ]
    },
    {
      "cell_type": "code",
      "execution_count": null,
      "id": "d02d470b",
      "metadata": {
        "id": "d02d470b",
        "outputId": "11f0dc84-8797-40b2-f44b-b61157e43dca",
        "colab": {
          "base_uri": "https://localhost:8080/"
        }
      },
      "outputs": [
        {
          "output_type": "stream",
          "name": "stdout",
          "text": [
            "Mean Accuracy: 0.950 (0.008)\n"
          ]
        }
      ],
      "source": [
        "# define the model evaluation procedure\n",
        "cv = RepeatedStratifiedKFold(n_splits=10, n_repeats=3, random_state=1)\n",
        "# evaluate the model and collect the scores\n",
        "n_scores = cross_val_score(clf2, X, y, scoring='accuracy', cv=cv, n_jobs=-1)\n",
        "# report the model performance\n",
        "print('Mean Accuracy: %.3f (%.3f)' % (mean(n_scores), std(n_scores)))"
      ]
    },
    {
      "cell_type": "code",
      "execution_count": null,
      "id": "52bcadc5",
      "metadata": {
        "id": "52bcadc5",
        "outputId": "2b38041d-e445-472f-d62b-558b569a9fe6",
        "colab": {
          "base_uri": "https://localhost:8080/"
        }
      },
      "outputs": [
        {
          "output_type": "stream",
          "name": "stdout",
          "text": [
            "Accuracy 0.8520529351883271\n",
            "F1-score [0.89621726 0.76793249 0.76477987 0.81334724 0.83532659 1.        ]\n",
            "              precision    recall  f1-score   support\n",
            "\n",
            "           1       0.86      0.93      0.90       496\n",
            "           2       0.76      0.77      0.77       471\n",
            "           3       0.81      0.72      0.76       420\n",
            "           4       0.83      0.79      0.81       491\n",
            "           5       0.82      0.85      0.84       532\n",
            "           6       1.00      1.00      1.00       537\n",
            "\n",
            "    accuracy                           0.85      2947\n",
            "   macro avg       0.85      0.85      0.85      2947\n",
            "weighted avg       0.85      0.85      0.85      2947\n",
            "\n"
          ]
        }
      ],
      "source": [
        "param_list = {'max_depth': [None] + list(np.arange(2, 20)),\n",
        "              'min_samples_split': [2, 5, 10, 20, 30, 50, 100],\n",
        "              'min_samples_leaf': [1, 5, 10, 20, 30, 50, 100]}\n",
        "\n",
        "random_search = RandomizedSearchCV(clf2, param_distributions=param_list, n_iter=20, cv=10)\n",
        "random_search.fit(X, y)\n",
        "clf2 = random_search.best_estimator_\n",
        "\n",
        "\n",
        "y_pred7 = clf2.predict(Xtest)\n",
        "\n",
        "print('Accuracy %s' % accuracy_score(ytest, y_pred7))\n",
        "print('F1-score %s' % f1_score(ytest, y_pred7, average=None))\n",
        "print(classification_report(ytest, y_pred7))"
      ]
    },
    {
      "cell_type": "code",
      "execution_count": null,
      "id": "3a9cb6c6",
      "metadata": {
        "id": "3a9cb6c6",
        "outputId": "3cd180b5-ec17-4532-c28b-ab4ece023e74",
        "colab": {
          "base_uri": "https://localhost:8080/"
        }
      },
      "outputs": [
        {
          "output_type": "execute_result",
          "data": {
            "text/plain": [
              "{'min_samples_split': 20, 'min_samples_leaf': 10, 'max_depth': 16}"
            ]
          },
          "metadata": {},
          "execution_count": 29
        }
      ],
      "source": [
        "random_search.cv_results_['params'][random_search.cv_results_['rank_test_score'][0]]"
      ]
    },
    {
      "cell_type": "markdown",
      "id": "fa0acd60",
      "metadata": {
        "id": "fa0acd60"
      },
      "source": [
        "##### Random Forest so has better accuracy then a single decision tree."
      ]
    },
    {
      "cell_type": "code",
      "execution_count": null,
      "metadata": {
        "id": "1700526f",
        "outputId": "6cb25abf-d2f6-4172-816b-6b1d0da23b9b"
      },
      "outputs": [
        {
          "data": {
            "image/png": "[encoded data removed]",
            "text/plain": [
              "<Figure size 432x288 with 1 Axes>"
            ]
          },
          "metadata": {
            "needs_background": "light"
          },
          "output_type": "display_data"
        }
      ],
      "source": [
        "train_results = []\n",
        "test_results = []\n",
        "list_nb_trees = [5, 10, 15, 30, 45, 60, 80, 100,120,140,160,180,200,220,250,280,300]\n",
        "\n",
        "for nb_trees in list_nb_trees:\n",
        "    rf = RandomForestRegressor(n_estimators=nb_trees)\n",
        "    rf.fit(X, y)\n",
        "\n",
        "    train_results.append(mean_squared_error(y, rf.predict(X)))\n",
        "    test_results.append(mean_squared_error(ytest, rf.predict(Xtest)))\n",
        "\n",
        "line1, = plt.plot(list_nb_trees, train_results, color=\"r\", label=\"Training Score\")\n",
        "line2, = plt.plot(list_nb_trees, test_results, color=\"g\", label=\"Testing Score\")\n",
        "\n",
        "plt.legend(handler_map={line1: HandlerLine2D(numpoints=2)})\n",
        "plt.ylabel('MSE')\n",
        "plt.xlabel('n_estimators')\n",
        "plt.show()"
      ],
      "id": "1700526f"
    },
    {
      "cell_type": "code",
      "execution_count": null,
      "id": "98b39eee",
      "metadata": {
        "id": "98b39eee",
        "outputId": "028760a9-d82e-4417-f448-3f738d347248"
      },
      "outputs": [
        {
          "data": {
            "image/png": "[encoded data removed]",
            "text/plain": [
              "<Figure size 432x288 with 1 Axes>"
            ]
          },
          "metadata": {
            "needs_background": "light"
          },
          "output_type": "display_data"
        }
      ],
      "source": [
        "train_results = []\n",
        "test_results = []\n",
        "list_nb_trees = [5, 10, 15, 30, 45, 60, 80, 100,120,140,160,180,200,220,250,280,300,330,360,400]\n",
        "\n",
        "for nb_trees in list_nb_trees:\n",
        "    rf = RandomForestClassifier(n_estimators=nb_trees)\n",
        "    rf.fit(X, y)\n",
        "\n",
        "    train_results.append(rf.score(X,y))\n",
        "    test_results.append(rf.score(Xtest, ytest))\n",
        "\n",
        "line1, = plt.plot(list_nb_trees, train_results, color=\"r\", label=\"Training Score\")\n",
        "line2, = plt.plot(list_nb_trees, test_results, color=\"g\", label=\"Testing Score\")\n",
        "\n",
        "plt.legend(handler_map={line1: HandlerLine2D(numpoints=2)})\n",
        "plt.ylabel('Error')\n",
        "plt.xlabel('n_estimators')\n",
        "plt.show()"
      ]
    },
    {
      "cell_type": "markdown",
      "source": [
        "# Proof withouth the least important features (from RF features importances)"
      ],
      "metadata": {
        "id": "Cv1nGJeSR6gi"
      },
      "id": "Cv1nGJeSR6gi"
    },
    {
      "cell_type": "code",
      "execution_count": null,
      "id": "7867f817",
      "metadata": {
        "id": "7867f817"
      },
      "outputs": [],
      "source": [
        "df3=df.drop(columns=['Unnamed: 0','label','tBodyGyro-arCoeff()-Y,1','tBodyGyro-correlation()-Y,Z','tBodyAcc-correlation()-Y,Z','tBodyAcc-entropy()-X','tBodyGyro-min()-X','fBodyGyro-meanFreq()-X'])\n",
        "Xpr = df3.values\n",
        "test3=test.drop(columns=['Unnamed: 0','label','tBodyGyro-arCoeff()-Y,1','tBodyGyro-correlation()-Y,Z','tBodyAcc-correlation()-Y,Z','tBodyAcc-entropy()-X','tBodyGyro-min()-X','fBodyGyro-meanFreq()-X'])\n",
        "Xte=test3.values"
      ]
    },
    {
      "cell_type": "code",
      "execution_count": null,
      "id": "7594fdc5",
      "metadata": {
        "id": "7594fdc5"
      },
      "outputs": [],
      "source": [
        "clasimpo = RandomForestClassifier(n_estimators=100, criterion='gini', max_depth=9, min_samples_split=5,\n",
        "                             min_samples_leaf=1, min_weight_fraction_leaf=0.0, max_features='auto', random_state=0)"
      ]
    },
    {
      "cell_type": "code",
      "execution_count": null,
      "id": "6a7c1cc8",
      "metadata": {
        "id": "6a7c1cc8",
        "outputId": "82530f4f-7955-4e29-fed2-2c1faffe608f",
        "colab": {
          "base_uri": "https://localhost:8080/"
        }
      },
      "outputs": [
        {
          "output_type": "stream",
          "name": "stderr",
          "text": [
            "/usr/local/lib/python3.10/dist-packages/sklearn/ensemble/_forest.py:424: FutureWarning: `max_features='auto'` has been deprecated in 1.1 and will be removed in 1.3. To keep the past behaviour, explicitly set `max_features='sqrt'` or remove this parameter as it is also the default value for RandomForestClassifiers and ExtraTreesClassifiers.\n",
            "  warn(\n"
          ]
        },
        {
          "output_type": "stream",
          "name": "stdout",
          "text": [
            "Accuracy 0.8805564981336953\n",
            "F1-score [0.91929134 0.85294118 0.88475836 0.79917611 0.81936685 1.        ]\n",
            "              precision    recall  f1-score   support\n",
            "\n",
            "           1       0.90      0.94      0.92       496\n",
            "           2       0.84      0.86      0.85       471\n",
            "           3       0.92      0.85      0.88       420\n",
            "           4       0.81      0.79      0.80       491\n",
            "           5       0.81      0.83      0.82       532\n",
            "           6       1.00      1.00      1.00       537\n",
            "\n",
            "    accuracy                           0.88      2947\n",
            "   macro avg       0.88      0.88      0.88      2947\n",
            "weighted avg       0.88      0.88      0.88      2947\n",
            "\n"
          ]
        }
      ],
      "source": [
        "clasimpo.fit(Xpr, y)\n",
        "claspredi=clasimpo.predict(Xte)\n",
        "\n",
        "print('Accuracy %s' % accuracy_score(ytest, claspredi))\n",
        "print('F1-score %s' % f1_score(ytest, claspredi, average=None))\n",
        "print(classification_report(ytest, claspredi))"
      ]
    },
    {
      "cell_type": "markdown",
      "id": "2c505121",
      "metadata": {
        "id": "2c505121"
      },
      "source": [
        "# BAGGING"
      ]
    },
    {
      "cell_type": "code",
      "execution_count": null,
      "id": "00312484",
      "metadata": {
        "id": "00312484"
      },
      "outputs": [],
      "source": [
        "# A helper function that will run RepeatedKFold cross validation for a range\n",
        "# of ensemble sizes (est_range).\n",
        "# Takes, the estimator, n_reps and the range as arguments.\n",
        "def eval_bag_est_range(the_est, n_reps, est_range, folds = 10):\n",
        "    n_est_dict = {}\n",
        "    for n_est in est_range:\n",
        "        the_bag = BaggingClassifier(the_est,\n",
        "                            n_estimators = n_est,\n",
        "                            max_samples = 1.0, # bootstrap resampling\n",
        "                            bootstrap = True)\n",
        "        bag_cv = cross_validate(the_bag, X, y, n_jobs=-1,\n",
        "                                cv=RepeatedKFold(n_splits=folds, n_repeats=n_reps))\n",
        "        n_est_dict[n_est]=bag_cv['test_score'].mean()\n",
        "    return n_est_dict"
      ]
    },
    {
      "cell_type": "markdown",
      "source": [
        "## Using logistic regression as base estimator"
      ],
      "metadata": {
        "id": "fPYwNnqGVXBx"
      },
      "id": "fPYwNnqGVXBx"
    },
    {
      "cell_type": "code",
      "execution_count": null,
      "metadata": {
        "id": "118dae41",
        "outputId": "85e501de-f467-48eb-dcb7-8c83a516218b"
      },
      "outputs": [
        {
          "data": {
            "text/plain": [
              "BaggingClassifier(base_estimator=LogisticRegression(max_iter=10000),\n",
              "                  n_estimators=100, random_state=0)"
            ]
          },
          "execution_count": 33,
          "metadata": {},
          "output_type": "execute_result"
        }
      ],
      "source": [
        "logb = BaggingClassifier(base_estimator=LogisticRegression(max_iter=10000), n_estimators=100, random_state=0)\n",
        "logb.fit(X, y)\n"
      ],
      "id": "118dae41"
    },
    {
      "cell_type": "code",
      "execution_count": null,
      "id": "4cf8888b",
      "metadata": {
        "id": "4cf8888b",
        "outputId": "fa77d513-d522-42ff-bee3-d9acbc96d7dd"
      },
      "outputs": [
        {
          "name": "stdout",
          "output_type": "stream",
          "text": [
            "Accuracy 0.9080420766881574\n",
            "F1-score [0.9351145  0.87513812 0.92418773 0.8460733  0.86241921 0.99813433]\n",
            "              precision    recall  f1-score   support\n",
            "\n",
            "           1       0.89      0.99      0.94       496\n",
            "           2       0.91      0.84      0.88       471\n",
            "           3       0.93      0.91      0.92       420\n",
            "           4       0.87      0.82      0.85       491\n",
            "           5       0.85      0.88      0.86       532\n",
            "           6       1.00      1.00      1.00       537\n",
            "\n",
            "    accuracy                           0.91      2947\n",
            "   macro avg       0.91      0.91      0.91      2947\n",
            "weighted avg       0.91      0.91      0.91      2947\n",
            "\n"
          ]
        }
      ],
      "source": [
        "ypredb = logb.predict(Xtest)\n",
        "\n",
        "print('Accuracy %s' % accuracy_score(ytest, ypredb))\n",
        "print('F1-score %s' % f1_score(ytest, ypredb, average=None))\n",
        "print(classification_report(ytest, ypredb))"
      ]
    },
    {
      "cell_type": "code",
      "execution_count": null,
      "id": "58b9ceae",
      "metadata": {
        "id": "58b9ceae",
        "outputId": "e29f6036-53e2-470c-8471-8295e8f69994"
      },
      "outputs": [
        {
          "name": "stdout",
          "output_type": "stream",
          "text": [
            "Model test Score: 0.908,  Model training Score: 0.957\n"
          ]
        }
      ],
      "source": [
        "#score in train e test set\n",
        "print('Model test Score: %.3f, ' %logb.score(Xtest, ytest),\n",
        "      'Model training Score: %.3f' %logb.score(X, y))"
      ]
    },
    {
      "cell_type": "markdown",
      "source": [
        "## Using Random Forest as base estimator"
      ],
      "metadata": {
        "id": "Xb7dm3K_VeQD"
      },
      "id": "Xb7dm3K_VeQD"
    },
    {
      "cell_type": "code",
      "execution_count": null,
      "metadata": {
        "id": "b9f83311",
        "outputId": "0d21ac7f-95fe-447d-fd08-a798eb3ea30f"
      },
      "outputs": [
        {
          "data": {
            "text/plain": [
              "BaggingClassifier(base_estimator=RandomForestClassifier(min_samples_split=5),\n",
              "                  n_estimators=50, random_state=0)"
            ]
          },
          "execution_count": 23,
          "metadata": {},
          "output_type": "execute_result"
        }
      ],
      "source": [
        "rfb = BaggingClassifier(base_estimator=RandomForestClassifier(n_estimators=100, min_samples_split=5,\n",
        "                             min_samples_leaf=1), n_estimators=50, random_state=0)\n",
        "rfb.fit(X, y)"
      ],
      "id": "b9f83311"
    },
    {
      "cell_type": "code",
      "execution_count": null,
      "id": "f58772ae",
      "metadata": {
        "id": "f58772ae",
        "outputId": "12e32c0a-1076-4022-ed1a-5289fbb9d25b"
      },
      "outputs": [
        {
          "name": "stdout",
          "output_type": "stream",
          "text": [
            "Accuracy 0.168306752629793\n",
            "F1-score [0.28812082 0.         0.         0.         0.         0.        ]\n",
            "              precision    recall  f1-score   support\n",
            "\n",
            "           1       0.17      1.00      0.29       496\n",
            "           2       0.00      0.00      0.00       471\n",
            "           3       0.00      0.00      0.00       420\n",
            "           4       0.00      0.00      0.00       491\n",
            "           5       0.00      0.00      0.00       532\n",
            "           6       0.00      0.00      0.00       537\n",
            "\n",
            "    accuracy                           0.17      2947\n",
            "   macro avg       0.03      0.17      0.05      2947\n",
            "weighted avg       0.03      0.17      0.05      2947\n",
            "\n"
          ]
        },
        {
          "name": "stderr",
          "output_type": "stream",
          "text": [
            "C:\\Users\\maria\\anaconda3\\lib\\site-packages\\sklearn\\metrics\\_classification.py:1308: UndefinedMetricWarning: Precision and F-score are ill-defined and being set to 0.0 in labels with no predicted samples. Use `zero_division` parameter to control this behavior.\n",
            "  _warn_prf(average, modifier, msg_start, len(result))\n",
            "C:\\Users\\maria\\anaconda3\\lib\\site-packages\\sklearn\\metrics\\_classification.py:1308: UndefinedMetricWarning: Precision and F-score are ill-defined and being set to 0.0 in labels with no predicted samples. Use `zero_division` parameter to control this behavior.\n",
            "  _warn_prf(average, modifier, msg_start, len(result))\n",
            "C:\\Users\\maria\\anaconda3\\lib\\site-packages\\sklearn\\metrics\\_classification.py:1308: UndefinedMetricWarning: Precision and F-score are ill-defined and being set to 0.0 in labels with no predicted samples. Use `zero_division` parameter to control this behavior.\n",
            "  _warn_prf(average, modifier, msg_start, len(result))\n"
          ]
        }
      ],
      "source": [
        "ypredrf = rfb.predict(Xtest)\n",
        "\n",
        "print('Accuracy %s' % accuracy_score(ytest, ypredrf))\n",
        "print('F1-score %s' % f1_score(ytest, ypredrf, average=None))\n",
        "print(classification_report(ytest, ypredrf))"
      ]
    },
    {
      "cell_type": "markdown",
      "source": [
        "With estimator=100 and values parameters found in random forest tuning we get 89.8% accuracy."
      ],
      "metadata": {
        "id": "GDozHYxjWAvJ"
      },
      "id": "GDozHYxjWAvJ"
    },
    {
      "cell_type": "code",
      "execution_count": null,
      "id": "04fd173b",
      "metadata": {
        "id": "04fd173b",
        "outputId": "bd95c097-4526-44ad-d394-98a512207a09"
      },
      "outputs": [
        {
          "data": {
            "text/plain": [
              "BaggingClassifier(n_estimators=100, random_state=0)"
            ]
          },
          "execution_count": 46,
          "metadata": {},
          "output_type": "execute_result"
        }
      ],
      "source": [
        "dtb = BaggingClassifier(base_estimator=None, n_estimators=100, random_state=0)\n",
        "dtb.fit(X, y)"
      ]
    },
    {
      "cell_type": "code",
      "execution_count": null,
      "id": "638e6e10",
      "metadata": {
        "id": "638e6e10",
        "outputId": "aba8a66d-539a-44c0-9188-12aaa96a43c1"
      },
      "outputs": [
        {
          "name": "stdout",
          "output_type": "stream",
          "text": [
            "Accuracy 0.8798778418730913\n",
            "F1-score [0.90192308 0.82905983 0.86967419 0.81904762 0.84468665 1.        ]\n",
            "              precision    recall  f1-score   support\n",
            "\n",
            "           1       0.86      0.95      0.90       496\n",
            "           2       0.83      0.82      0.83       471\n",
            "           3       0.92      0.83      0.87       420\n",
            "           4       0.85      0.79      0.82       491\n",
            "           5       0.82      0.87      0.84       532\n",
            "           6       1.00      1.00      1.00       537\n",
            "\n",
            "    accuracy                           0.88      2947\n",
            "   macro avg       0.88      0.88      0.88      2947\n",
            "weighted avg       0.88      0.88      0.88      2947\n",
            "\n"
          ]
        }
      ],
      "source": [
        "ypredtb = dtb.predict(Xtest)\n",
        "\n",
        "print('Accuracy %s' % accuracy_score(ytest, ypredtb))\n",
        "print('F1-score %s' % f1_score(ytest, ypredtb, average=None))\n",
        "print(classification_report(ytest, ypredtb))"
      ]
    },
    {
      "cell_type": "code",
      "execution_count": null,
      "id": "6257ef8e",
      "metadata": {
        "id": "6257ef8e",
        "outputId": "13649b01-7abb-430d-ae34-d91fe151bd61"
      },
      "outputs": [
        {
          "data": {
            "text/plain": [
              "BaggingClassifier(base_estimator=GaussianNB(), n_estimators=80, random_state=0)"
            ]
          },
          "execution_count": 252,
          "metadata": {},
          "output_type": "execute_result"
        }
      ],
      "source": [
        "naive = BaggingClassifier(base_estimator=GaussianNB(), n_estimators=80, random_state=0)\n",
        "naive.fit(X, y)"
      ]
    },
    {
      "cell_type": "code",
      "execution_count": null,
      "id": "ab77665d",
      "metadata": {
        "id": "ab77665d",
        "outputId": "88a7415c-7723-46fa-f42d-447d629c6c51"
      },
      "outputs": [
        {
          "name": "stdout",
          "output_type": "stream",
          "text": [
            "Accuracy 0.8710553104852392\n",
            "F1-score [0.90149254 0.86597938 0.85956416 0.76201641 0.82222222 0.99626168]\n",
            "              precision    recall  f1-score   support\n",
            "\n",
            "           1       0.89      0.91      0.90       496\n",
            "           2       0.84      0.89      0.87       471\n",
            "           3       0.87      0.85      0.86       420\n",
            "           4       0.90      0.66      0.76       491\n",
            "           5       0.75      0.90      0.82       532\n",
            "           6       1.00      0.99      1.00       537\n",
            "\n",
            "    accuracy                           0.87      2947\n",
            "   macro avg       0.88      0.87      0.87      2947\n",
            "weighted avg       0.88      0.87      0.87      2947\n",
            "\n"
          ]
        }
      ],
      "source": [
        "ypredn = naive.predict(Xtest)\n",
        "\n",
        "print('Accuracy %s' % accuracy_score(ytest, ypredn))\n",
        "print('F1-score %s' % f1_score(ytest, ypredn, average=None))\n",
        "print(classification_report(ytest, ypredn))"
      ]
    },
    {
      "cell_type": "markdown",
      "id": "8355a227",
      "metadata": {
        "id": "8355a227"
      },
      "source": [
        "# BOOSTING"
      ]
    },
    {
      "cell_type": "markdown",
      "source": [
        "## Adaboost"
      ],
      "metadata": {
        "id": "P6nmLtVSWb6Z"
      },
      "id": "P6nmLtVSWb6Z"
    },
    {
      "cell_type": "markdown",
      "source": [
        "### Dection Tree as base estimator"
      ],
      "metadata": {
        "id": "BJB44pyyWqIz"
      },
      "id": "BJB44pyyWqIz"
    },
    {
      "cell_type": "code",
      "execution_count": null,
      "id": "fed74657",
      "metadata": {
        "id": "fed74657",
        "outputId": "5280e095-fbba-47ee-9cc7-e1efb32f8b68",
        "colab": {
          "base_uri": "https://localhost:8080/"
        }
      },
      "outputs": [
        {
          "output_type": "stream",
          "name": "stderr",
          "text": [
            "/usr/local/lib/python3.10/dist-packages/sklearn/ensemble/_base.py:166: FutureWarning: `base_estimator` was renamed to `estimator` in version 1.2 and will be removed in 1.4.\n",
            "  warnings.warn(\n"
          ]
        },
        {
          "output_type": "stream",
          "name": "stdout",
          "text": [
            "Accuracy 0.9009161859518154\n",
            "F1-score [0.92736318 0.86820084 0.90774908 0.83315393 0.86123545 1.        ]\n",
            "              precision    recall  f1-score   support\n",
            "\n",
            "           1       0.92      0.94      0.93       496\n",
            "           2       0.86      0.88      0.87       471\n",
            "           3       0.94      0.88      0.91       420\n",
            "           4       0.88      0.79      0.83       491\n",
            "           5       0.82      0.90      0.86       532\n",
            "           6       1.00      1.00      1.00       537\n",
            "\n",
            "    accuracy                           0.90      2947\n",
            "   macro avg       0.90      0.90      0.90      2947\n",
            "weighted avg       0.90      0.90      0.90      2947\n",
            "\n"
          ]
        }
      ],
      "source": [
        "ada = AdaBoostClassifier(base_estimator=DecisionTreeClassifier(max_depth=8), n_estimators=100, random_state=12, algorithm='SAMME.R')\n",
        "ada.fit(X, y)\n",
        "\n",
        "y_preda = ada.predict(Xtest)\n",
        "\n",
        "print('Accuracy %s' % accuracy_score(ytest, y_preda))\n",
        "print('F1-score %s' % f1_score(ytest, y_preda, average=None))\n",
        "print(classification_report(ytest, y_preda))"
      ]
    },
    {
      "cell_type": "markdown",
      "source": [
        "### Random Forest as base estimator"
      ],
      "metadata": {
        "id": "T9sOS7hpWxq8"
      },
      "id": "T9sOS7hpWxq8"
    },
    {
      "cell_type": "code",
      "execution_count": null,
      "id": "82980575",
      "metadata": {
        "id": "82980575",
        "outputId": "a2ba6005-1d51-4fb7-a3fb-9c723909fad7"
      },
      "outputs": [
        {
          "name": "stdout",
          "output_type": "stream",
          "text": [
            "Accuracy 0.8887003732609433\n",
            "F1-score [0.90945274 0.84854772 0.9057072  0.8185654  0.84412033 1.        ]\n",
            "              precision    recall  f1-score   support\n",
            "\n",
            "           1       0.90      0.92      0.91       496\n",
            "           2       0.83      0.87      0.85       471\n",
            "           3       0.95      0.87      0.91       420\n",
            "           4       0.85      0.79      0.82       491\n",
            "           5       0.82      0.87      0.84       532\n",
            "           6       1.00      1.00      1.00       537\n",
            "\n",
            "    accuracy                           0.89      2947\n",
            "   macro avg       0.89      0.89      0.89      2947\n",
            "weighted avg       0.89      0.89      0.89      2947\n",
            "\n"
          ]
        }
      ],
      "source": [
        "ada = AdaBoostClassifier(base_estimator=RandomForestClassifier(n_estimators=60), n_estimators=70, random_state=0)\n",
        "ada.fit(X, y)\n",
        "\n",
        "y_preda = ada.predict(Xtest)\n",
        "\n",
        "print('Accuracy %s' % accuracy_score(ytest, y_preda))\n",
        "print('F1-score %s' % f1_score(ytest, y_preda, average=None))\n",
        "print(classification_report(ytest, y_preda))"
      ]
    },
    {
      "cell_type": "code",
      "execution_count": null,
      "id": "e8d877f0",
      "metadata": {
        "id": "e8d877f0",
        "outputId": "1b651db2-9633-4103-9bb1-c01dca06223b"
      },
      "outputs": [
        {
          "data": {
            "text/plain": [
              "[1.0, 0.0]"
            ]
          },
          "execution_count": 90,
          "metadata": {},
          "output_type": "execute_result"
        }
      ],
      "source": [
        "list(ada.estimator_weights_)"
      ]
    },
    {
      "cell_type": "markdown",
      "source": [
        "### Logistic Regression as base estimator"
      ],
      "metadata": {
        "id": "GedGFMXoW5b3"
      },
      "id": "GedGFMXoW5b3"
    },
    {
      "cell_type": "code",
      "execution_count": null,
      "id": "52da5b97",
      "metadata": {
        "id": "52da5b97",
        "outputId": "b4348266-5d57-4a10-f361-cc2780a65a00"
      },
      "outputs": [
        {
          "name": "stdout",
          "output_type": "stream",
          "text": [
            "Accuracy 0.8893790295215473\n",
            "F1-score [0.91162791 0.83758701 0.92271106 0.81883316 0.83568075 1.        ]\n",
            "              precision    recall  f1-score   support\n",
            "\n",
            "           1       0.85      0.99      0.91       496\n",
            "           2       0.92      0.77      0.84       471\n",
            "           3       0.92      0.92      0.92       420\n",
            "           4       0.82      0.81      0.82       491\n",
            "           5       0.83      0.84      0.84       532\n",
            "           6       1.00      1.00      1.00       537\n",
            "\n",
            "    accuracy                           0.89      2947\n",
            "   macro avg       0.89      0.89      0.89      2947\n",
            "weighted avg       0.89      0.89      0.89      2947\n",
            "\n"
          ]
        }
      ],
      "source": [
        "loga = AdaBoostClassifier(base_estimator=LogisticRegression(), n_estimators=200, learning_rate=1.0,random_state=0)\n",
        "loga.fit(X, y)\n",
        "\n",
        "y_preda = loga.predict(Xtest)\n",
        "\n",
        "print('Accuracy %s' % accuracy_score(ytest, y_preda))\n",
        "print('F1-score %s' % f1_score(ytest, y_preda, average=None))\n",
        "print(classification_report(ytest, y_preda))"
      ]
    },
    {
      "cell_type": "code",
      "execution_count": null,
      "id": "12a91a42",
      "metadata": {
        "id": "12a91a42"
      },
      "outputs": [],
      "source": [
        "def get_models():\n",
        "\tmodels = dict()\n",
        "\t# explore depths from 1 to 10\n",
        "\tfor i in range(1,11):\n",
        "\t\t# define base model\n",
        "\t\tbase = DecisionTreeClassifier(max_depth=i)\n",
        "\t\t# define ensemble model\n",
        "\t\tmodels[str(i)] = AdaBoostClassifier(base_estimator=base)\n",
        "\treturn models"
      ]
    },
    {
      "cell_type": "code",
      "execution_count": null,
      "id": "cc8ca4da",
      "metadata": {
        "id": "cc8ca4da"
      },
      "outputs": [],
      "source": [
        "# evaluate a given model using cross-validation\n",
        "def evaluate_model(model, X, y):\n",
        "\t# define the evaluation procedure\n",
        "\tcv = RepeatedStratifiedKFold(n_splits=10, n_repeats=3, random_state=1)\n",
        "\t# evaluate the model and collect the results\n",
        "\tscores = cross_val_score(model, X, y, scoring='accuracy', cv=cv, n_jobs=-1)\n",
        "\treturn scores"
      ]
    },
    {
      "cell_type": "code",
      "execution_count": null,
      "id": "4d1bdeec",
      "metadata": {
        "id": "4d1bdeec",
        "outputId": "9254e28f-4047-4c2b-c43d-d6b9b3eee95a"
      },
      "outputs": [
        {
          "name": "stdout",
          "output_type": "stream",
          "text": [
            ">1 0.808 (0.050)\n",
            ">2 0.876 (0.030)\n",
            ">3 0.932 (0.012)\n",
            ">4 0.959 (0.008)\n",
            ">5 0.974 (0.007)\n",
            ">6 0.982 (0.005)\n",
            ">7 0.987 (0.006)\n",
            ">8 0.987 (0.004)\n",
            ">9 0.988 (0.004)\n",
            ">10 0.989 (0.004)\n"
          ]
        }
      ],
      "source": [
        "# get the models to evaluate\n",
        "models = get_models()\n",
        "# evaluate the models and store results\n",
        "results, names = list(), list()\n",
        "for name, model in models.items():\n",
        "\t# evaluate the model\n",
        "\tscores = evaluate_model(model, X, y)\n",
        "\t# store the results\n",
        "\tresults.append(scores)\n",
        "\tnames.append(name)\n",
        "\t# summarize the performance along the way\n",
        "\tprint('>%s %.3f (%.3f)' % (name, mean(scores), std(scores)))"
      ]
    },
    {
      "cell_type": "code",
      "execution_count": null,
      "id": "4289dcce",
      "metadata": {
        "id": "4289dcce",
        "outputId": "7aaea372-67f9-4eab-f991-2962e1a9e850"
      },
      "outputs": [
        {
          "name": "stdout",
          "output_type": "stream",
          "text": [
            "Results for 20 estimators:\n",
            "0.7801269720677617\n",
            "Results for 40 estimators:\n",
            "0.8029544646320962\n",
            "Results for 60 estimators:\n",
            "0.8174975887969309\n",
            "Results for 80 estimators:\n",
            "0.8289104595025648\n",
            "Results for 100 estimators:\n",
            "0.8319421095736886\n"
          ]
        }
      ],
      "source": [
        "cv = RepeatedStratifiedKFold(n_splits=10, n_repeats=3, random_state=1)\n",
        "\n",
        "num_estimators = [20, 40, 60, 80, 100]\n",
        "\n",
        "for i in num_estimators:\n",
        "    ada_boost = AdaBoostClassifier(n_estimators=i, random_state=12)\n",
        "    results = cross_val_score(ada_boost, X, y, cv=cv)\n",
        "    print(\"Results for {} estimators:\".format(i))\n",
        "    print(results.mean())"
      ]
    }
  ],
  "metadata": {
    "kernelspec": {
      "display_name": "Python 3",
      "language": "python",
      "name": "python3"
    },
    "language_info": {
      "codemirror_mode": {
        "name": "ipython",
        "version": 3
      },
      "file_extension": ".py",
      "mimetype": "text/x-python",
      "name": "python",
      "nbconvert_exporter": "python",
      "pygments_lexer": "ipython3",
      "version": "3.8.8"
    },
    "colab": {
      "provenance": []
    }
  },
  "nbformat": 4,
  "nbformat_minor": 5
}